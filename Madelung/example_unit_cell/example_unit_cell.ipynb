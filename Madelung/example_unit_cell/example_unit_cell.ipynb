{
 "cells": [
  {
   "cell_type": "code",
   "execution_count": 3,
   "metadata": {},
   "outputs": [],
   "source": [
    "import numpy as np\n",
    "import math\n",
    "def volume_values(a,b,c,alpha, beta, gamma):\n",
    "    G = np.linalg.det(np.array([[a**2,a*b*np.cos(gamma),a*c*np.cos(beta)],[a*b*np.cos(gamma),b**2,b*c*np.cos(alpha)],[a*c*np.cos(beta),b*c*np.cos(alpha),c**2]]))\n",
    "    return np.sqrt(G)\n",
    "\n",
    "def volume_vectors(a1,a2,a3):\n",
    "    b=[]\n",
    "    for i in np.cross(a2,a3): b.append(i)\n",
    "    return abs(np.dot(a1, b))"
   ]
  },
  {
   "cell_type": "code",
   "execution_count": 1,
   "metadata": {},
   "outputs": [],
   "source": [
    "import pandas as pd\n",
    "import numpy as np\n",
    "\n",
    "df = pd.read_csv('example_cartesian.csv', delim_whitespace=True)\n",
    "\n",
    "coords = []\n",
    "\n",
    "for i in range(len(df)):\n",
    "    coords.append((df['x'][i], df['y'][i], df['z'][i]))\n",
    "\n",
    "\n",
    "def transform_coordinates(matrix, points):    \n",
    "    transformed_points = []\n",
    "    for j in range(len(points)):\n",
    "        point = []\n",
    "        # Apply the transformation\n",
    "        for i in range(3):\n",
    "            a=[]\n",
    "            t=0\n",
    "            for element in matrix[i]:\n",
    "                a.append(element*points[j][t])\n",
    "                t=t+1\n",
    "            a = sum(a)\n",
    "            point.append(a)\n",
    "        transformed_points.append(point)\n",
    "    return transformed_points\n",
    "\n",
    "# Inverse of A^-1\n",
    "transformation_matrix = np.array([\n",
    "    [1/3.08,    1/(2*1.54*np.sqrt(3)),   0],  # Shift x by 2\n",
    "    [0,         1/(1.54*np.sqrt(3)),     0],  # Shift y by 3\n",
    "    [0,         0,                       1/10.07]  # Shift z by 4\n",
    "])"
   ]
  },
  {
   "cell_type": "code",
   "execution_count": 4,
   "metadata": {},
   "outputs": [
    {
     "name": "stdout",
     "output_type": "stream",
     "text": [
      "82.72971634193928\n",
      "For 72 atoms the following vectors give the volume (in A):\n",
      "82.72971634193924\n",
      "The parameters (in A) and the volume calculated with them:\n",
      "3.08 3.08 10.07 90.0 90.0 120.00000000000001\n",
      "82.72971634193921\n",
      "Now the parameters in bohr:\n",
      "5.820356044888 5.820356044888 19.029540705202 90.0 90.0 120.00000000000001\n",
      "   El             x             y         z\n",
      "0  Si  0.000000e+00  0.000000e+00 -3.142907\n",
      "1  Si  0.000000e+00  0.000000e+00  1.892093\n",
      "2   C  0.000000e+00  0.000000e+00 -5.030368\n",
      "3  Cr -1.880015e-15 -1.292510e-15  0.004632\n",
      "4  Si  0.000000e+00 -1.778239e+00 -0.625931\n",
      "5  Si  0.000000e+00  1.778239e+00  4.409069\n",
      "6   C  0.000000e+00 -1.778239e+00 -2.519484\n",
      "7   C  0.000000e+00  1.778239e+00  2.515516\n"
     ]
    }
   ],
   "source": [
    "print(volume_values(3.08, 3.08, 10.07, np.pi/2, np.pi/2, np.pi*2/3))\n",
    "print(\"For 72 atoms the following vectors give the volume (in A):\")\n",
    "print(volume_vectors((1.54, -2.667358243656071, 0.0), (1.54, 2.667358243656071, 0.0), (0.0, 0.0,10.07)))\n",
    "a_vec = [1.54, -2.667358243656071, 0.0]\n",
    "b_vec = [1.54, 2.667358243656071, 0.0]\n",
    "c_vec = [0.0, 0.0,10.07]\n",
    "a = np.sqrt(a_vec[0]**2 + a_vec[1]**2 + a_vec[2]**2)\n",
    "b = np.sqrt(b_vec[0]**2 + b_vec[1]**2 + b_vec[2]**2)\n",
    "c = np.sqrt(c_vec[0]**2 + c_vec[1]**2 + c_vec[2]**2)\n",
    "alpha = math.acos(np.dot(b_vec, c_vec)/(b*c))\n",
    "beta = math.acos(np.dot(a_vec, c_vec)/(a*c))\n",
    "gamma = math.acos(np.dot(a_vec, b_vec)/(a*b))\n",
    "\n",
    "print(\"The parameters (in A) and the volume calculated with them:\")\n",
    "print(a,b,c,alpha*180/np.pi, beta*180/np.pi, gamma*180/np.pi)\n",
    "print(volume_values(a,b,c,alpha,beta,gamma))\n",
    "conv = 1.8897259886\n",
    "print(\"Now the parameters in bohr:\")\n",
    "print(a*conv,b*conv,c*conv,alpha*180/np.pi, beta*180/np.pi, gamma*180/np.pi)\n",
    "print(df)"
   ]
  },
  {
   "cell_type": "code",
   "execution_count": 5,
   "metadata": {},
   "outputs": [
    {
     "name": "stdout",
     "output_type": "stream",
     "text": [
      "   El             x             y         z\n",
      "0  Si  0.000000e+00  0.000000e+00 -5.939234\n",
      "1  Si  0.000000e+00  0.000000e+00  3.575537\n",
      "2   C  0.000000e+00  0.000000e+00 -9.506017\n",
      "3  Cr -3.552713e-15 -2.442490e-15  0.008754\n",
      "4  Si  0.000000e+00 -3.360384e+00 -1.182838\n",
      "5  Si  0.000000e+00  3.360384e+00  8.331932\n",
      "6   C  0.000000e+00 -3.360384e+00 -4.761134\n",
      "7   C  0.000000e+00  3.360384e+00  4.753636\n"
     ]
    },
    {
     "name": "stderr",
     "output_type": "stream",
     "text": [
      "C:\\Users\\Mikel\\AppData\\Local\\Temp\\ipykernel_41736\\636397403.py:1: FutureWarning: DataFrame.applymap has been deprecated. Use DataFrame.map instead.\n",
      "  df2 = df.applymap(lambda x: x * 1.8897259886 if isinstance(x, (int, float)) else x)\n"
     ]
    }
   ],
   "source": [
    "df2 = df.applymap(lambda x: x * 1.8897259886 if isinstance(x, (int, float)) else x)\n",
    "print(df2)"
   ]
  },
  {
   "cell_type": "code",
   "execution_count": 16,
   "metadata": {},
   "outputs": [],
   "source": [
    "df2.to_csv('BOHR_unit_cell_Cr_carterian_coords.csv', sep='\\t', index=False)"
   ]
  },
  {
   "cell_type": "code",
   "execution_count": 6,
   "metadata": {},
   "outputs": [
    {
     "name": "stdout",
     "output_type": "stream",
     "text": [
      "Transformed points are: [[0.0, 0.0, -0.31210600000000005], [0.0, 0.0, 0.187894], [0.0, 0.0, -0.49954], [-8.526773824493952e-16, -4.845657289775855e-16, 0.0004599999999995234], [-0.3333333333333335, -0.666666666666667, -0.062158000000000165], [0.3333333333333335, 0.666666666666667, 0.4378419999999999], [-0.3333333333333335, -0.666666666666667, -0.2501969999999999], [0.3333333333333335, 0.666666666666667, 0.24980300000000003]]\n",
      "Now this coordinates are transformed from bohr to fractional\n",
      "[[ 0.00000000e+00  0.00000000e+00 -3.12106000e-01  4.00000000e+00]\n",
      " [ 0.00000000e+00  0.00000000e+00  1.87894000e-01  4.00000000e+00]\n",
      " [ 0.00000000e+00  0.00000000e+00 -4.99540000e-01 -4.00000000e+00]\n",
      " [-8.52677382e-16 -4.84565729e-16  4.60000000e-04 -4.00000000e+00]\n",
      " [-3.33333333e-01 -6.66666667e-01 -6.21580000e-02  4.00000000e+00]\n",
      " [ 3.33333333e-01  6.66666667e-01  4.37842000e-01  4.00000000e+00]\n",
      " [-3.33333333e-01 -6.66666667e-01 -2.50197000e-01 -4.00000000e+00]\n",
      " [ 3.33333333e-01  6.66666667e-01  2.49803000e-01 -4.00000000e+00]]\n"
     ]
    }
   ],
   "source": [
    "conv = 1.8897259886\n",
    "coords_bohr = []\n",
    "for coord in coords:\n",
    "    a = []\n",
    "    for i in coord:\n",
    "        a.append(i*conv)\n",
    "    coords_bohr.append(a)\n",
    "\n",
    "#Transformation matrix in bohr\n",
    "transformation_matrix_bohr = np.array([\n",
    "    [1/(3.08*conv),    1/(conv*2*1.54*np.sqrt(3)),   0],  # Shift x by 2\n",
    "    [0,         1/(conv*1.54*np.sqrt(3)),     0],  # Shift y by 3\n",
    "    [0,         0,                       1/(10.07*conv)]  # Shift z by 4\n",
    "])\n",
    "\n",
    "transformed_points = transform_coordinates(transformation_matrix_bohr, coords_bohr)\n",
    "print(f\"Transformed points are: {transformed_points}\")\n",
    "added_transformed_points = []\n",
    "\n",
    "t=0\n",
    "for element in df['El']:\n",
    "    if element == 'Si':\n",
    "        added_transformed_points.append(np.append(transformed_points[t], +4))\n",
    "    else:\n",
    "        added_transformed_points.append(np.append(transformed_points[t], -4))\n",
    "    t=t+1\n",
    "added_transformed_points = np.array(added_transformed_points)\n",
    "print(f\"Now this coordinates are transformed from bohr to fractional\")\n",
    "print(added_transformed_points)"
   ]
  }
 ],
 "metadata": {
  "kernelspec": {
   "display_name": "Python 3",
   "language": "python",
   "name": "python3"
  },
  "language_info": {
   "codemirror_mode": {
    "name": "ipython",
    "version": 3
   },
   "file_extension": ".py",
   "mimetype": "text/x-python",
   "name": "python",
   "nbconvert_exporter": "python",
   "pygments_lexer": "ipython3",
   "version": "3.11.9"
  }
 },
 "nbformat": 4,
 "nbformat_minor": 2
}
