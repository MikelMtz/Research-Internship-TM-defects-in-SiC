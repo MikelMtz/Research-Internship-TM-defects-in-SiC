{
 "cells": [
  {
   "cell_type": "code",
   "execution_count": 2,
   "metadata": {},
   "outputs": [],
   "source": [
    "import numpy as np\n",
    "import math\n",
    "import pandas as pd\n",
    "\n",
    "def volume_values(a,b,c,alpha, beta, gamma):\n",
    "    G = np.linalg.det(np.array([[a**2,a*b*np.cos(gamma),a*c*np.cos(beta)],[a*b*np.cos(gamma),b**2,b*c*np.cos(alpha)],[a*c*np.cos(beta),b*c*np.cos(alpha),c**2]]))\n",
    "    return np.sqrt(G)\n",
    "\n",
    "def volume_vectors(a1,a2,a3):\n",
    "    b=[]\n",
    "    for i in np.cross(a2,a3): b.append(i)\n",
    "    return abs(np.dot(a1, b))\n",
    "\n",
    "\n",
    "def transform_coordinates(matrix, points):    \n",
    "    transformed_points = []\n",
    "    for j in range(len(points)):\n",
    "        point = []\n",
    "        # Apply the transformation\n",
    "        for i in range(3):\n",
    "            a=[]\n",
    "            t=0\n",
    "            for element in matrix[i]:\n",
    "                a.append(element*points[j][t])\n",
    "                t=t+1\n",
    "            a = sum(a)\n",
    "            point.append(a)\n",
    "        transformed_points.append(point)\n",
    "    return transformed_points\n",
    "\n",
    "def params_and_units(vector_1, vector_2, vector_3):\n",
    "    conv = 1.8897259886\n",
    "\n",
    "    # Lattice parameters from lattice vectors\n",
    "    a_vec = vector_1\n",
    "    b_vec = vector_2\n",
    "    c_vec = vector_3\n",
    "    a = np.sqrt(a_vec[0]**2 + a_vec[1]**2 + a_vec[2]**2)\n",
    "    b = np.sqrt(b_vec[0]**2 + b_vec[1]**2 + b_vec[2]**2)\n",
    "    c = np.sqrt(c_vec[0]**2 + c_vec[1]**2 + c_vec[2]**2)\n",
    "    alpha = math.acos(np.dot(b_vec, c_vec)/(b*c))\n",
    "    beta = math.acos(np.dot(a_vec, c_vec)/(a*c))\n",
    "    gamma = math.acos(np.dot(a_vec, b_vec)/(a*b))\n",
    "    return a*conv, b*conv, c*conv, alpha*180/np.pi, beta*180/np.pi, gamma*180/np.pi\n",
    "\n",
    "def fractional_coordinates(vector_1, vector_2, vector_3, df):\n",
    "\n",
    "    # Convert the dataframe to a tuple\n",
    "    coords = []\n",
    "\n",
    "    for i in range(len(df)):\n",
    "        coords.append((df['x'][i], df['y'][i], df['z'][i]))\n",
    "\n",
    "    # Conversion factors for armstrong to bohr, and for the transformation matrix\n",
    "    conv = 1.8897259886\n",
    "    new_lattice_param_A_B = params_and_units(vector_1, vector_2, vector_3)[0]\n",
    "    new_lattice_param_C = params_and_units(vector_1, vector_2, vector_3)[2]\n",
    "\n",
    "    # Transform coordinates to \n",
    "    coords_bohr = []\n",
    "    for coord in coords:\n",
    "        a = []\n",
    "        for i in coord:\n",
    "            a.append(i*conv)\n",
    "        coords_bohr.append(a)\n",
    "    df_cartesian_coords_bohr = pd.DataFrame(coords_bohr)\n",
    "\n",
    "    #Transformation matrix in bohr\n",
    "    transformation_matrix_bohr = np.array([\n",
    "        [1/(new_lattice_param_A_B),    1/(new_lattice_param_A_B*np.sqrt(3)),   0],  # Shift x by 2\n",
    "        [0,         1/(new_lattice_param_A_B*np.sqrt(3)/2),     0],  # Shift y by 3\n",
    "        [0,         0,                       1/(new_lattice_param_C)]  # Shift z by 4\n",
    "    ])\n",
    "\n",
    "    # Transform the cartesian points to fractional coordinates\n",
    "    transformed_points = transform_coordinates(transformation_matrix_bohr, coords_bohr)\n",
    "\n",
    "    # Create a dataframe with the ionic charges too, corresponsing to the correct elements.\n",
    "    added_transformed_points = []\n",
    "    t=0\n",
    "    for element in df['El']:\n",
    "        if element == 'Si':\n",
    "            added_transformed_points.append(np.append(transformed_points[t], +4))\n",
    "        else:\n",
    "            added_transformed_points.append(np.append(transformed_points[t], -4))\n",
    "        t=t+1\n",
    "    added_transformed_points = np.array(added_transformed_points)\n",
    "    df_fractional_coords_transformed = pd.DataFrame(added_transformed_points)\n",
    "\n",
    "    return df_fractional_coords_transformed, df_cartesian_coords_bohr\n"
   ]
  },
  {
   "cell_type": "markdown",
   "metadata": {},
   "source": [
    "# Process 3x3x1 with C centre (defect placed at Carbon site)"
   ]
  },
  {
   "cell_type": "code",
   "execution_count": 13,
   "metadata": {},
   "outputs": [
    {
     "name": "stdout",
     "output_type": "stream",
     "text": [
      "(           0         1         2    3\n",
      "0   0.333333  0.000000 -0.312106  4.0\n",
      "1   0.333333  0.000000  0.187894  4.0\n",
      "2   0.333333  0.000000 -0.499540 -4.0\n",
      "3   0.333333  0.000000  0.000460 -4.0\n",
      "4   0.222222 -0.222222 -0.062158  4.0\n",
      "..       ...       ...       ...  ...\n",
      "67  0.000000 -0.333333  0.000460 -4.0\n",
      "68 -0.111111 -0.555556 -0.062158  4.0\n",
      "69  0.111111 -0.111111  0.437842  4.0\n",
      "70 -0.111111 -0.555556 -0.250197 -4.0\n",
      "71  0.111111 -0.111111  0.249803 -4.0\n",
      "\n",
      "[72 rows x 4 columns],            0         1         2\n",
      "0   5.820356  0.000000 -5.939234\n",
      "1   5.820356  0.000000  3.575537\n",
      "2   5.820356  0.000000 -9.506017\n",
      "3   5.820356  0.000000  0.008754\n",
      "4   5.820356 -3.360384 -1.182838\n",
      "..       ...       ...       ...\n",
      "67  2.910178 -5.040576  0.008754\n",
      "68  2.910178 -8.400960 -1.182838\n",
      "69  2.910178 -1.680192  8.331932\n",
      "70  2.910178 -8.400960 -4.761134\n",
      "71  2.910178 -1.680192  4.753636\n",
      "\n",
      "[72 rows x 3 columns])\n",
      "(17.46106813307947, 17.46106813307947, 19.029540705202, 90.0, 90.0, 119.99999999399628)\n"
     ]
    }
   ],
   "source": [
    "df_3x3x1 = pd.read_csv('Cartesian_coords_armstrong/3x3x1_Cr_cartesian_coords_C_centre.csv', delim_whitespace=True)\n",
    "v_3x3x1 = [(4.62,-8.00207473,0.0), (4.62,8.00207473,0.0), (0.0,0.0,10.07000000)]\n",
    "\n",
    "print(fractional_coordinates(v_3x3x1[0], v_3x3x1[1], v_3x3x1[2], df_3x3x1))\n",
    "print(params_and_units(v_3x3x1[0], v_3x3x1[1], v_3x3x1[2]))"
   ]
  },
  {
   "cell_type": "code",
   "execution_count": null,
   "metadata": {},
   "outputs": [],
   "source": [
    "fractional_coordinates(v_3x3x1[0], v_3x3x1[1], v_3x3x1[2], df_3x3x1)[1].to_csv('BOHR_3x3x1_Cr_carterian_coords_C_centre.csv', sep='\\t', index=False)\n",
    "fractional_coordinates(v_3x3x1[0], v_3x3x1[1], v_3x3x1[2], df_3x3x1)[0].to_csv('BOHR_3x3x1_Cr_fractional_coords_C_centre.csv', sep='\\t', index=False)"
   ]
  },
  {
   "cell_type": "markdown",
   "metadata": {},
   "source": [
    "# Process 3x3x1 with Si centre (defect placed at Silicon site)"
   ]
  },
  {
   "cell_type": "code",
   "execution_count": 14,
   "metadata": {},
   "outputs": [
    {
     "name": "stdout",
     "output_type": "stream",
     "text": [
      "(           0         1         2    3\n",
      "0   0.333333  0.000000 -0.312106 -4.0\n",
      "1   0.333333  0.000000  0.187894 -4.0\n",
      "2   0.333333  0.000000 -0.499540  4.0\n",
      "3   0.333333  0.000000  0.000460  4.0\n",
      "4   0.222222 -0.222222 -0.062158 -4.0\n",
      "..       ...       ...       ...  ...\n",
      "67  0.000000 -0.333333  0.000460  4.0\n",
      "68 -0.111111 -0.555556 -0.062158 -4.0\n",
      "69  0.111111 -0.111111  0.437842 -4.0\n",
      "70 -0.111111 -0.555556 -0.250197  4.0\n",
      "71  0.111111 -0.111111  0.249803  4.0\n",
      "\n",
      "[72 rows x 4 columns],            0         1         2\n",
      "0   5.820356  0.000000 -5.939234\n",
      "1   5.820356  0.000000  3.575537\n",
      "2   5.820356  0.000000 -9.506017\n",
      "3   5.820356  0.000000  0.008754\n",
      "4   5.820356 -3.360384 -1.182838\n",
      "..       ...       ...       ...\n",
      "67  2.910178 -5.040576  0.008754\n",
      "68  2.910178 -8.400960 -1.182838\n",
      "69  2.910178 -1.680192  8.331932\n",
      "70  2.910178 -8.400960 -4.761134\n",
      "71  2.910178 -1.680192  4.753636\n",
      "\n",
      "[72 rows x 3 columns])\n",
      "(17.46106813307947, 17.46106813307947, 19.029540705202, 90.0, 90.0, 119.99999999399628)\n"
     ]
    }
   ],
   "source": [
    "df_3x3x1 = pd.read_csv('Cartesian_coords_armstrong/3x3x1_Cr_cartesian_coords_Si_centre.csv', delim_whitespace=True)\n",
    "v_3x3x1 = [(4.62,-8.00207473,0.0), (4.62,8.00207473,0.0), (0.0,0.0,10.07000000)]\n",
    "\n",
    "print(fractional_coordinates(v_3x3x1[0], v_3x3x1[1], v_3x3x1[2], df_3x3x1))\n",
    "print(params_and_units(v_3x3x1[0], v_3x3x1[1], v_3x3x1[2]))"
   ]
  },
  {
   "cell_type": "code",
   "execution_count": 15,
   "metadata": {},
   "outputs": [],
   "source": [
    "fractional_coordinates(v_3x3x1[0], v_3x3x1[1], v_3x3x1[2], df_3x3x1)[1].to_csv('BOHR_3x3x1_Cr_carterian_coords_Si_centre.csv', sep='\\t', index=False)\n",
    "fractional_coordinates(v_3x3x1[0], v_3x3x1[1], v_3x3x1[2], df_3x3x1)[0].to_csv('BOHR_3x3x1_Cr_fractional_coords_Si_centre.csv', sep='\\t', index=False)"
   ]
  },
  {
   "cell_type": "markdown",
   "metadata": {},
   "source": [
    "# Process 5x5x2"
   ]
  },
  {
   "cell_type": "code",
   "execution_count": 11,
   "metadata": {},
   "outputs": [
    {
     "name": "stdout",
     "output_type": "stream",
     "text": [
      "(            0             1         2    3\n",
      "0    0.400000 -1.331922e-16  0.093947 -4.0\n",
      "1    0.400000 -1.331922e-16  0.343947 -4.0\n",
      "2    0.400000 -1.331922e-16  0.000230  4.0\n",
      "3    0.400000 -1.331922e-16  0.250230  4.0\n",
      "4    0.333333 -1.333333e-01  0.218921 -4.0\n",
      "..        ...           ...       ...  ...\n",
      "395  0.200000 -2.000000e-01 -0.249770  4.0\n",
      "396  0.133333 -3.333333e-01 -0.281079 -4.0\n",
      "397  0.266667 -6.666667e-02 -0.031079 -4.0\n",
      "398  0.133333 -3.333333e-01 -0.375098  4.0\n",
      "399  0.266667 -6.666667e-02 -0.125099  4.0\n",
      "\n",
      "[400 rows x 4 columns],              0             1          2\n",
      "0    11.640712 -3.356828e-15   3.575537\n",
      "1    11.640712 -3.356828e-15  13.090307\n",
      "2    11.640712 -3.356828e-15   0.008754\n",
      "3    11.640712 -3.356828e-15   9.523524\n",
      "4    11.640712 -3.360384e+00   8.331932\n",
      "..         ...           ...        ...\n",
      "395   8.730534 -5.040576e+00  -9.506017\n",
      "396   8.730534 -8.400960e+00 -10.697609\n",
      "397   8.730534 -1.680192e+00  -1.182838\n",
      "398   8.730534 -8.400960e+00 -14.275904\n",
      "399   8.730534 -1.680192e+00  -4.761134\n",
      "\n",
      "[400 rows x 3 columns])\n",
      "(29.101780227254284, 29.101780227254284, 38.059081410404, 90.0, 90.0, 120.00000000639797)\n"
     ]
    }
   ],
   "source": [
    "df_5x5x2 = pd.read_csv('Cartesian_coords_armstrong/5x5x2_Cr_cartesian_coords.csv', delim_whitespace=True)\n",
    "v_5x5x2 = [(7.7, -13.33679122, 0.0),(7.7, 13.33679122, 0.0),(0.0, 0.0, 20.14)]\n",
    "\n",
    "print(fractional_coordinates(v_5x5x2[0], v_5x5x2[1], v_5x5x2[2], df_5x5x2))\n",
    "print(params_and_units(v_5x5x2[0], v_5x5x2[1], v_5x5x2[2]))"
   ]
  },
  {
   "cell_type": "code",
   "execution_count": 7,
   "metadata": {},
   "outputs": [],
   "source": [
    "fractional_coordinates(v_5x5x2[0], v_5x5x2[1], v_5x5x2[2], df_5x5x2)[1].to_csv('BOHR_5x5x2_Cr_carterian_coords.csv', sep='\\t', index=False)"
   ]
  },
  {
   "cell_type": "code",
   "execution_count": 8,
   "metadata": {},
   "outputs": [],
   "source": [
    "fractional_coordinates(v_5x5x2[0], v_5x5x2[1], v_5x5x2[2], df_5x5x2)[0].to_csv('BOHR_5x5x2_Cr_fractional_coords.csv', sep='\\t', index=False)"
   ]
  },
  {
   "cell_type": "markdown",
   "metadata": {},
   "source": [
    "# Process 3x3x2"
   ]
  },
  {
   "cell_type": "code",
   "execution_count": 10,
   "metadata": {},
   "outputs": [
    {
     "name": "stdout",
     "output_type": "stream",
     "text": [
      "(            0         1         2    3\n",
      "0    0.333333  0.000000  0.093947 -4.0\n",
      "1    0.333333  0.000000  0.343947 -4.0\n",
      "2    0.333333  0.000000  0.000230  4.0\n",
      "3    0.333333  0.000000  0.250230  4.0\n",
      "4    0.222222 -0.222222  0.218921 -4.0\n",
      "..        ...       ...       ...  ...\n",
      "139  0.333333  0.000000 -0.249770  4.0\n",
      "140  0.222222 -0.222222 -0.281079 -4.0\n",
      "141  0.444444  0.222222 -0.031079 -4.0\n",
      "142  0.222222 -0.222222 -0.375098  4.0\n",
      "143  0.444444  0.222222 -0.125099  4.0\n",
      "\n",
      "[144 rows x 4 columns],             0         1          2\n",
      "0    5.820356  0.000000   3.575537\n",
      "1    5.820356  0.000000  13.090307\n",
      "2    5.820356  0.000000   0.008754\n",
      "3    5.820356  0.000000   9.523524\n",
      "4    5.820356 -3.360384   8.331932\n",
      "..        ...       ...        ...\n",
      "139  5.820356  0.000000  -9.506017\n",
      "140  5.820356 -3.360384 -10.697609\n",
      "141  5.820356  3.360384  -1.182838\n",
      "142  5.820356 -3.360384 -14.275904\n",
      "143  5.820356  3.360384  -4.761134\n",
      "\n",
      "[144 rows x 3 columns])\n",
      "(17.461068134664, 17.461068134664, 38.059081410404, 90.0, 90.0, 120.00000000000001)\n"
     ]
    }
   ],
   "source": [
    "df_3x3x2 = pd.read_csv('Cartesian_coords_armstrong/3x3x2_Cr_cartesian_coords.csv', delim_whitespace=True)\n",
    "v_3x3x2 = [(4.62, -8.002074730968213,0.0),(4.62, 8.002074730968213, 0.0),(0.0, 0.0, 20.14)]\n",
    "\n",
    "print(fractional_coordinates(v_3x3x2[0], v_3x3x2[1], v_3x3x2[2], df_3x3x2))\n",
    "print(params_and_units(v_3x3x2[0], v_3x3x2[1], v_3x3x2[2]))"
   ]
  },
  {
   "cell_type": "code",
   "execution_count": 12,
   "metadata": {},
   "outputs": [],
   "source": [
    "fractional_coordinates(v_3x3x2[0], v_3x3x2[1], v_3x3x2[2], df_3x3x2)[1].to_csv('BOHR_3x3x2_Cr_carterian_coords.csv', sep='\\t', index=False)\n",
    "fractional_coordinates(v_3x3x2[0], v_3x3x2[1], v_3x3x2[2], df_3x3x2)[0].to_csv('BOHR_3x3x2_Cr_fractional_coords.csv', sep='\\t', index=False)"
   ]
  }
 ],
 "metadata": {
  "kernelspec": {
   "display_name": "Python 3",
   "language": "python",
   "name": "python3"
  },
  "language_info": {
   "codemirror_mode": {
    "name": "ipython",
    "version": 3
   },
   "file_extension": ".py",
   "mimetype": "text/x-python",
   "name": "python",
   "nbconvert_exporter": "python",
   "pygments_lexer": "ipython3",
   "version": "3.11.9"
  }
 },
 "nbformat": 4,
 "nbformat_minor": 2
}
